{
 "cells": [
  {
   "cell_type": "markdown",
   "id": "96aa4209",
   "metadata": {},
   "source": [
    "# MLB Pitch Outcome Prediction\n",
    "### Predicting whether a pitch results in a hit using Statcast data\n",
    "This notebook walks through building a machine learning model from scratch using MLB Statcast data. We'll explore the data, engineer relevant features, train a model, and evaluate its performance."
   ]
  },
  {
   "cell_type": "code",
   "execution_count": 1,
   "id": "9bb4d9d1",
   "metadata": {},
   "outputs": [],
   "source": [
    "# Import basic libraries\n",
    "import pandas as pd\n",
    "import numpy as np\n",
    "import matplotlib.pyplot as plt\n",
    "import pybaseball as pyball"
   ]
  },
  {
   "cell_type": "code",
   "execution_count": 2,
   "id": "7ccc29d4",
   "metadata": {},
   "outputs": [],
   "source": [
    "steps_to_follow = [\n",
    "    \"1. Getting the data ready\",\n",
    "    \"2. Choose the right estimator/algorithm for our problems\",\n",
    "    \"3. Fit the model/algorithm and use it to make predictions on our data\",\n",
    "    \"4. Evaluating a model\",\n",
    "    \"5. Improve a model\",\n",
    "    \"6. Save and load a trained model\"\n",
    "]"
   ]
  },
  {
   "cell_type": "markdown",
   "id": "a858826d",
   "metadata": {},
   "source": [
    "## 1. Getting the data ready"
   ]
  },
  {
   "cell_type": "code",
   "execution_count": 3,
   "id": "11243edd",
   "metadata": {},
   "outputs": [
    {
     "name": "stdout",
     "output_type": "stream",
     "text": [
      "This is a large query, it may take a moment to complete\n"
     ]
    },
    {
     "name": "stderr",
     "output_type": "stream",
     "text": [
      "100%|██████████| 186/186 [01:23<00:00,  2.23it/s]\n"
     ]
    }
   ],
   "source": [
    "# Let's try grabbing all pitchers for 2025 regular season\n",
    "# This query will take a while and will prompt a warning that says as much\n",
    "# Hiding the warning\n",
    "import warnings\n",
    "warnings.filterwarnings('ignore')\n",
    "\n",
    "pitcher_data = pyball.statcast(start_dt='2025-03-27', end_dt='2025-09-28')"
   ]
  },
  {
   "cell_type": "code",
   "execution_count": 4,
   "id": "12e969b3",
   "metadata": {},
   "outputs": [
    {
     "data": {
      "text/html": [
       "<div>\n",
       "<style scoped>\n",
       "    .dataframe tbody tr th:only-of-type {\n",
       "        vertical-align: middle;\n",
       "    }\n",
       "\n",
       "    .dataframe tbody tr th {\n",
       "        vertical-align: top;\n",
       "    }\n",
       "\n",
       "    .dataframe thead th {\n",
       "        text-align: right;\n",
       "    }\n",
       "</style>\n",
       "<table border=\"1\" class=\"dataframe\">\n",
       "  <thead>\n",
       "    <tr style=\"text-align: right;\">\n",
       "      <th></th>\n",
       "      <th>pitch_type</th>\n",
       "      <th>game_date</th>\n",
       "      <th>release_speed</th>\n",
       "      <th>release_pos_x</th>\n",
       "      <th>release_pos_z</th>\n",
       "      <th>player_name</th>\n",
       "      <th>batter</th>\n",
       "      <th>pitcher</th>\n",
       "      <th>events</th>\n",
       "      <th>description</th>\n",
       "      <th>...</th>\n",
       "      <th>batter_days_until_next_game</th>\n",
       "      <th>api_break_z_with_gravity</th>\n",
       "      <th>api_break_x_arm</th>\n",
       "      <th>api_break_x_batter_in</th>\n",
       "      <th>arm_angle</th>\n",
       "      <th>attack_angle</th>\n",
       "      <th>attack_direction</th>\n",
       "      <th>swing_path_tilt</th>\n",
       "      <th>intercept_ball_minus_batter_pos_x_inches</th>\n",
       "      <th>intercept_ball_minus_batter_pos_y_inches</th>\n",
       "    </tr>\n",
       "  </thead>\n",
       "  <tbody>\n",
       "    <tr>\n",
       "      <th>1988</th>\n",
       "      <td>FF</td>\n",
       "      <td>2025-09-28</td>\n",
       "      <td>95.7</td>\n",
       "      <td>-2.15</td>\n",
       "      <td>5.21</td>\n",
       "      <td>Weissert, Greg</td>\n",
       "      <td>678009</td>\n",
       "      <td>669711</td>\n",
       "      <td>field_out</td>\n",
       "      <td>hit_into_play</td>\n",
       "      <td>...</td>\n",
       "      <td>2</td>\n",
       "      <td>1.56</td>\n",
       "      <td>0.71</td>\n",
       "      <td>-0.71</td>\n",
       "      <td>20.9</td>\n",
       "      <td>5.991833</td>\n",
       "      <td>-1.319512</td>\n",
       "      <td>28.782516</td>\n",
       "      <td>41.559201</td>\n",
       "      <td>30.599805</td>\n",
       "    </tr>\n",
       "    <tr>\n",
       "      <th>2079</th>\n",
       "      <td>FF</td>\n",
       "      <td>2025-09-28</td>\n",
       "      <td>95.1</td>\n",
       "      <td>-1.91</td>\n",
       "      <td>5.1</td>\n",
       "      <td>Weissert, Greg</td>\n",
       "      <td>668670</td>\n",
       "      <td>669711</td>\n",
       "      <td>strikeout</td>\n",
       "      <td>called_strike</td>\n",
       "      <td>...</td>\n",
       "      <td>9</td>\n",
       "      <td>1.59</td>\n",
       "      <td>0.93</td>\n",
       "      <td>0.93</td>\n",
       "      <td>20.5</td>\n",
       "      <td>&lt;NA&gt;</td>\n",
       "      <td>&lt;NA&gt;</td>\n",
       "      <td>&lt;NA&gt;</td>\n",
       "      <td>&lt;NA&gt;</td>\n",
       "      <td>&lt;NA&gt;</td>\n",
       "    </tr>\n",
       "    <tr>\n",
       "      <th>2129</th>\n",
       "      <td>FF</td>\n",
       "      <td>2025-09-28</td>\n",
       "      <td>95.4</td>\n",
       "      <td>-1.99</td>\n",
       "      <td>5.22</td>\n",
       "      <td>Weissert, Greg</td>\n",
       "      <td>668670</td>\n",
       "      <td>669711</td>\n",
       "      <td>NaN</td>\n",
       "      <td>foul</td>\n",
       "      <td>...</td>\n",
       "      <td>9</td>\n",
       "      <td>1.36</td>\n",
       "      <td>0.85</td>\n",
       "      <td>0.85</td>\n",
       "      <td>22.9</td>\n",
       "      <td>2.871131</td>\n",
       "      <td>31.805044</td>\n",
       "      <td>22.266527</td>\n",
       "      <td>37.478847</td>\n",
       "      <td>15.582717</td>\n",
       "    </tr>\n",
       "    <tr>\n",
       "      <th>2213</th>\n",
       "      <td>SL</td>\n",
       "      <td>2025-09-28</td>\n",
       "      <td>84.8</td>\n",
       "      <td>-2.33</td>\n",
       "      <td>4.72</td>\n",
       "      <td>Weissert, Greg</td>\n",
       "      <td>668670</td>\n",
       "      <td>669711</td>\n",
       "      <td>NaN</td>\n",
       "      <td>swinging_strike</td>\n",
       "      <td>...</td>\n",
       "      <td>9</td>\n",
       "      <td>2.55</td>\n",
       "      <td>-0.32</td>\n",
       "      <td>-0.32</td>\n",
       "      <td>12.3</td>\n",
       "      <td>13.78541</td>\n",
       "      <td>4.08139</td>\n",
       "      <td>32.414181</td>\n",
       "      <td>38.011685</td>\n",
       "      <td>27.083341</td>\n",
       "    </tr>\n",
       "    <tr>\n",
       "      <th>2299</th>\n",
       "      <td>SL</td>\n",
       "      <td>2025-09-28</td>\n",
       "      <td>85.3</td>\n",
       "      <td>-2.26</td>\n",
       "      <td>4.85</td>\n",
       "      <td>Weissert, Greg</td>\n",
       "      <td>668670</td>\n",
       "      <td>669711</td>\n",
       "      <td>NaN</td>\n",
       "      <td>called_strike</td>\n",
       "      <td>...</td>\n",
       "      <td>9</td>\n",
       "      <td>2.71</td>\n",
       "      <td>-0.52</td>\n",
       "      <td>-0.52</td>\n",
       "      <td>15.8</td>\n",
       "      <td>&lt;NA&gt;</td>\n",
       "      <td>&lt;NA&gt;</td>\n",
       "      <td>&lt;NA&gt;</td>\n",
       "      <td>&lt;NA&gt;</td>\n",
       "      <td>&lt;NA&gt;</td>\n",
       "    </tr>\n",
       "  </tbody>\n",
       "</table>\n",
       "<p>5 rows × 118 columns</p>\n",
       "</div>"
      ],
      "text/plain": [
       "     pitch_type  game_date  release_speed  release_pos_x  release_pos_z  \\\n",
       "1988         FF 2025-09-28           95.7          -2.15           5.21   \n",
       "2079         FF 2025-09-28           95.1          -1.91            5.1   \n",
       "2129         FF 2025-09-28           95.4          -1.99           5.22   \n",
       "2213         SL 2025-09-28           84.8          -2.33           4.72   \n",
       "2299         SL 2025-09-28           85.3          -2.26           4.85   \n",
       "\n",
       "         player_name  batter  pitcher     events      description  ...  \\\n",
       "1988  Weissert, Greg  678009   669711  field_out    hit_into_play  ...   \n",
       "2079  Weissert, Greg  668670   669711  strikeout    called_strike  ...   \n",
       "2129  Weissert, Greg  668670   669711        NaN             foul  ...   \n",
       "2213  Weissert, Greg  668670   669711        NaN  swinging_strike  ...   \n",
       "2299  Weissert, Greg  668670   669711        NaN    called_strike  ...   \n",
       "\n",
       "      batter_days_until_next_game  api_break_z_with_gravity  api_break_x_arm  \\\n",
       "1988                            2                      1.56             0.71   \n",
       "2079                            9                      1.59             0.93   \n",
       "2129                            9                      1.36             0.85   \n",
       "2213                            9                      2.55            -0.32   \n",
       "2299                            9                      2.71            -0.52   \n",
       "\n",
       "      api_break_x_batter_in  arm_angle attack_angle attack_direction  \\\n",
       "1988                  -0.71       20.9     5.991833        -1.319512   \n",
       "2079                   0.93       20.5         <NA>             <NA>   \n",
       "2129                   0.85       22.9     2.871131        31.805044   \n",
       "2213                  -0.32       12.3     13.78541          4.08139   \n",
       "2299                  -0.52       15.8         <NA>             <NA>   \n",
       "\n",
       "     swing_path_tilt intercept_ball_minus_batter_pos_x_inches  \\\n",
       "1988       28.782516                                41.559201   \n",
       "2079            <NA>                                     <NA>   \n",
       "2129       22.266527                                37.478847   \n",
       "2213       32.414181                                38.011685   \n",
       "2299            <NA>                                     <NA>   \n",
       "\n",
       "     intercept_ball_minus_batter_pos_y_inches  \n",
       "1988                                30.599805  \n",
       "2079                                     <NA>  \n",
       "2129                                15.582717  \n",
       "2213                                27.083341  \n",
       "2299                                     <NA>  \n",
       "\n",
       "[5 rows x 118 columns]"
      ]
     },
     "execution_count": 4,
     "metadata": {},
     "output_type": "execute_result"
    }
   ],
   "source": [
    "pitcher_data.head()"
   ]
  },
  {
   "cell_type": "code",
   "execution_count": 5,
   "id": "4d46ce86",
   "metadata": {},
   "outputs": [
    {
     "data": {
      "text/plain": [
       "pandas.core.frame.DataFrame"
      ]
     },
     "execution_count": 5,
     "metadata": {},
     "output_type": "execute_result"
    }
   ],
   "source": [
    "type(pitcher_data)"
   ]
  },
  {
   "cell_type": "code",
   "execution_count": 6,
   "id": "0c1fc556",
   "metadata": {},
   "outputs": [
    {
     "data": {
      "text/plain": [
       "pitch_type                                          object\n",
       "game_date                                   datetime64[ns]\n",
       "release_speed                                      Float64\n",
       "release_pos_x                                      Float64\n",
       "release_pos_z                                      Float64\n",
       "                                                 ...      \n",
       "attack_angle                                       Float64\n",
       "attack_direction                                   Float64\n",
       "swing_path_tilt                                    Float64\n",
       "intercept_ball_minus_batter_pos_x_inches           Float64\n",
       "intercept_ball_minus_batter_pos_y_inches           Float64\n",
       "Length: 118, dtype: object"
      ]
     },
     "execution_count": 6,
     "metadata": {},
     "output_type": "execute_result"
    }
   ],
   "source": [
    "pitcher_data.dtypes"
   ]
  },
  {
   "cell_type": "code",
   "execution_count": 7,
   "id": "d24b0243",
   "metadata": {},
   "outputs": [
    {
     "data": {
      "text/plain": [
       "709459"
      ]
     },
     "execution_count": 7,
     "metadata": {},
     "output_type": "execute_result"
    }
   ],
   "source": [
    "len(pitcher_data)"
   ]
  },
  {
   "cell_type": "code",
   "execution_count": 8,
   "id": "dd6da1a7",
   "metadata": {},
   "outputs": [
    {
     "data": {
      "text/plain": [
       "Index(['pitch_type', 'game_date', 'release_speed', 'release_pos_x',\n",
       "       'release_pos_z', 'player_name', 'batter', 'pitcher', 'events',\n",
       "       'description',\n",
       "       ...\n",
       "       'batter_days_until_next_game', 'api_break_z_with_gravity',\n",
       "       'api_break_x_arm', 'api_break_x_batter_in', 'arm_angle', 'attack_angle',\n",
       "       'attack_direction', 'swing_path_tilt',\n",
       "       'intercept_ball_minus_batter_pos_x_inches',\n",
       "       'intercept_ball_minus_batter_pos_y_inches'],\n",
       "      dtype='object', length=118)"
      ]
     },
     "execution_count": 8,
     "metadata": {},
     "output_type": "execute_result"
    }
   ],
   "source": [
    "# Show all columns in the DataFrame\n",
    "pitcher_data.columns"
   ]
  },
  {
   "cell_type": "code",
   "execution_count": 9,
   "id": "01c627e2",
   "metadata": {},
   "outputs": [
    {
     "data": {
      "text/plain": [
       "player_name\n",
       "Webb, Logan            3282\n",
       "Rodón, Carlos          3212\n",
       "Crochet, Garrett       3151\n",
       "Gallen, Zac            3135\n",
       "Fried, Max             3109\n",
       "                       ... \n",
       "Kiner-Falefa, Isiah       7\n",
       "Burleson, Alec            7\n",
       "Amaya, Jacob              6\n",
       "Hampson, Garrett          3\n",
       "McKinstry, Zach           2\n",
       "Name: count, Length: 873, dtype: int64"
      ]
     },
     "execution_count": 9,
     "metadata": {},
     "output_type": "execute_result"
    }
   ],
   "source": [
    "pitcher_data['player_name'].value_counts()"
   ]
  },
  {
   "cell_type": "code",
   "execution_count": 10,
   "id": "d6631d0a",
   "metadata": {},
   "outputs": [],
   "source": [
    "# Rename player_name to pitcher_name\n",
    "pitcher_data.rename(columns={'player_name': 'pitcher_name'}, inplace=True)"
   ]
  },
  {
   "cell_type": "code",
   "execution_count": 11,
   "id": "f20eac7c",
   "metadata": {},
   "outputs": [
    {
     "name": "stdout",
     "output_type": "stream",
     "text": [
      "Gathering player lookup table. This may take a moment.\n"
     ]
    }
   ],
   "source": [
    "# Create batter_name column based on batter column ID using pybaseball's playerid_reverse_lookup function\n",
    "batter_ids = pitcher_data['batter'].unique()\n",
    "batter_info = pyball.playerid_reverse_lookup(batter_ids)"
   ]
  },
  {
   "cell_type": "code",
   "execution_count": 12,
   "id": "47a3f7b1",
   "metadata": {},
   "outputs": [
    {
     "data": {
      "text/html": [
       "<div>\n",
       "<style scoped>\n",
       "    .dataframe tbody tr th:only-of-type {\n",
       "        vertical-align: middle;\n",
       "    }\n",
       "\n",
       "    .dataframe tbody tr th {\n",
       "        vertical-align: top;\n",
       "    }\n",
       "\n",
       "    .dataframe thead th {\n",
       "        text-align: right;\n",
       "    }\n",
       "</style>\n",
       "<table border=\"1\" class=\"dataframe\">\n",
       "  <thead>\n",
       "    <tr style=\"text-align: right;\">\n",
       "      <th></th>\n",
       "      <th>name_last</th>\n",
       "      <th>name_first</th>\n",
       "      <th>key_mlbam</th>\n",
       "      <th>key_retro</th>\n",
       "      <th>key_bbref</th>\n",
       "      <th>key_fangraphs</th>\n",
       "      <th>mlb_played_first</th>\n",
       "      <th>mlb_played_last</th>\n",
       "    </tr>\n",
       "  </thead>\n",
       "  <tbody>\n",
       "    <tr>\n",
       "      <th>0</th>\n",
       "      <td>miller</td>\n",
       "      <td>owen</td>\n",
       "      <td>680911</td>\n",
       "      <td>millo002</td>\n",
       "      <td>milleow01</td>\n",
       "      <td>24655</td>\n",
       "      <td>2021.0</td>\n",
       "      <td>2025.0</td>\n",
       "    </tr>\n",
       "    <tr>\n",
       "      <th>1</th>\n",
       "      <td>edman</td>\n",
       "      <td>tommy</td>\n",
       "      <td>669242</td>\n",
       "      <td>edmat001</td>\n",
       "      <td>edmanto01</td>\n",
       "      <td>19470</td>\n",
       "      <td>2019.0</td>\n",
       "      <td>2025.0</td>\n",
       "    </tr>\n",
       "    <tr>\n",
       "      <th>2</th>\n",
       "      <td>schneider</td>\n",
       "      <td>davis</td>\n",
       "      <td>676914</td>\n",
       "      <td>schnd001</td>\n",
       "      <td>schneda03</td>\n",
       "      <td>23565</td>\n",
       "      <td>2023.0</td>\n",
       "      <td>2025.0</td>\n",
       "    </tr>\n",
       "    <tr>\n",
       "      <th>3</th>\n",
       "      <td>durbin</td>\n",
       "      <td>caleb</td>\n",
       "      <td>702332</td>\n",
       "      <td>durbc002</td>\n",
       "      <td>durbica01</td>\n",
       "      <td>-1</td>\n",
       "      <td>2025.0</td>\n",
       "      <td>2025.0</td>\n",
       "    </tr>\n",
       "    <tr>\n",
       "      <th>4</th>\n",
       "      <td>lopez</td>\n",
       "      <td>nicky</td>\n",
       "      <td>670032</td>\n",
       "      <td>lopen001</td>\n",
       "      <td>lopezni01</td>\n",
       "      <td>19339</td>\n",
       "      <td>2019.0</td>\n",
       "      <td>2025.0</td>\n",
       "    </tr>\n",
       "  </tbody>\n",
       "</table>\n",
       "</div>"
      ],
      "text/plain": [
       "   name_last name_first  key_mlbam key_retro  key_bbref  key_fangraphs  \\\n",
       "0     miller       owen     680911  millo002  milleow01          24655   \n",
       "1      edman      tommy     669242  edmat001  edmanto01          19470   \n",
       "2  schneider      davis     676914  schnd001  schneda03          23565   \n",
       "3     durbin      caleb     702332  durbc002  durbica01             -1   \n",
       "4      lopez      nicky     670032  lopen001  lopezni01          19339   \n",
       "\n",
       "   mlb_played_first  mlb_played_last  \n",
       "0            2021.0           2025.0  \n",
       "1            2019.0           2025.0  \n",
       "2            2023.0           2025.0  \n",
       "3            2025.0           2025.0  \n",
       "4            2019.0           2025.0  "
      ]
     },
     "execution_count": 12,
     "metadata": {},
     "output_type": "execute_result"
    }
   ],
   "source": [
    "batter_info.head()"
   ]
  },
  {
   "cell_type": "code",
   "execution_count": 13,
   "id": "363c58e4",
   "metadata": {},
   "outputs": [
    {
     "data": {
      "text/plain": [
       "0        Miller, Owen\n",
       "1        Edman, Tommy\n",
       "2    Schneider, Davis\n",
       "3       Durbin, Caleb\n",
       "4        Lopez, Nicky\n",
       "Name: batter_name, dtype: object"
      ]
     },
     "execution_count": 13,
     "metadata": {},
     "output_type": "execute_result"
    }
   ],
   "source": [
    "# Concatenate name_last and name_first to create full name\n",
    "batter_info['batter_name'] = batter_info['name_last'].str.capitalize() + ', ' + batter_info['name_first'].str.capitalize()\n",
    "batter_info['batter_name'][:5]"
   ]
  },
  {
   "cell_type": "code",
   "execution_count": 14,
   "id": "67c9d51d",
   "metadata": {},
   "outputs": [],
   "source": [
    "# Join batter_name back to pitcher_data on 'batter' and 'key_mlbam' in new player_data DataFrame\n",
    "player_data = pitcher_data.merge(batter_info, how='left', left_on='batter', right_on='key_mlbam')"
   ]
  },
  {
   "cell_type": "code",
   "execution_count": 15,
   "id": "faf44927",
   "metadata": {},
   "outputs": [
    {
     "data": {
      "text/html": [
       "<div>\n",
       "<style scoped>\n",
       "    .dataframe tbody tr th:only-of-type {\n",
       "        vertical-align: middle;\n",
       "    }\n",
       "\n",
       "    .dataframe tbody tr th {\n",
       "        vertical-align: top;\n",
       "    }\n",
       "\n",
       "    .dataframe thead th {\n",
       "        text-align: right;\n",
       "    }\n",
       "</style>\n",
       "<table border=\"1\" class=\"dataframe\">\n",
       "  <thead>\n",
       "    <tr style=\"text-align: right;\">\n",
       "      <th></th>\n",
       "      <th>pitch_type</th>\n",
       "      <th>game_date</th>\n",
       "      <th>release_speed</th>\n",
       "      <th>release_pos_x</th>\n",
       "      <th>release_pos_z</th>\n",
       "      <th>pitcher_name</th>\n",
       "      <th>batter</th>\n",
       "      <th>pitcher</th>\n",
       "      <th>events</th>\n",
       "      <th>description</th>\n",
       "      <th>...</th>\n",
       "      <th>intercept_ball_minus_batter_pos_y_inches</th>\n",
       "      <th>name_last</th>\n",
       "      <th>name_first</th>\n",
       "      <th>key_mlbam</th>\n",
       "      <th>key_retro</th>\n",
       "      <th>key_bbref</th>\n",
       "      <th>key_fangraphs</th>\n",
       "      <th>mlb_played_first</th>\n",
       "      <th>mlb_played_last</th>\n",
       "      <th>batter_name</th>\n",
       "    </tr>\n",
       "  </thead>\n",
       "  <tbody>\n",
       "    <tr>\n",
       "      <th>0</th>\n",
       "      <td>FF</td>\n",
       "      <td>2025-09-28</td>\n",
       "      <td>95.7</td>\n",
       "      <td>-2.15</td>\n",
       "      <td>5.21</td>\n",
       "      <td>Weissert, Greg</td>\n",
       "      <td>678009</td>\n",
       "      <td>669711</td>\n",
       "      <td>field_out</td>\n",
       "      <td>hit_into_play</td>\n",
       "      <td>...</td>\n",
       "      <td>30.599805</td>\n",
       "      <td>meadows</td>\n",
       "      <td>parker</td>\n",
       "      <td>678009</td>\n",
       "      <td>meadp001</td>\n",
       "      <td>meadopa01</td>\n",
       "      <td>23800</td>\n",
       "      <td>2023.0</td>\n",
       "      <td>2025.0</td>\n",
       "      <td>Meadows, Parker</td>\n",
       "    </tr>\n",
       "    <tr>\n",
       "      <th>1</th>\n",
       "      <td>FF</td>\n",
       "      <td>2025-09-28</td>\n",
       "      <td>95.1</td>\n",
       "      <td>-1.91</td>\n",
       "      <td>5.1</td>\n",
       "      <td>Weissert, Greg</td>\n",
       "      <td>668670</td>\n",
       "      <td>669711</td>\n",
       "      <td>strikeout</td>\n",
       "      <td>called_strike</td>\n",
       "      <td>...</td>\n",
       "      <td>&lt;NA&gt;</td>\n",
       "      <td>rogers</td>\n",
       "      <td>jake</td>\n",
       "      <td>668670</td>\n",
       "      <td>rogej004</td>\n",
       "      <td>rogerja03</td>\n",
       "      <td>19452</td>\n",
       "      <td>2019.0</td>\n",
       "      <td>2025.0</td>\n",
       "      <td>Rogers, Jake</td>\n",
       "    </tr>\n",
       "    <tr>\n",
       "      <th>2</th>\n",
       "      <td>FF</td>\n",
       "      <td>2025-09-28</td>\n",
       "      <td>95.4</td>\n",
       "      <td>-1.99</td>\n",
       "      <td>5.22</td>\n",
       "      <td>Weissert, Greg</td>\n",
       "      <td>668670</td>\n",
       "      <td>669711</td>\n",
       "      <td>NaN</td>\n",
       "      <td>foul</td>\n",
       "      <td>...</td>\n",
       "      <td>15.582717</td>\n",
       "      <td>rogers</td>\n",
       "      <td>jake</td>\n",
       "      <td>668670</td>\n",
       "      <td>rogej004</td>\n",
       "      <td>rogerja03</td>\n",
       "      <td>19452</td>\n",
       "      <td>2019.0</td>\n",
       "      <td>2025.0</td>\n",
       "      <td>Rogers, Jake</td>\n",
       "    </tr>\n",
       "    <tr>\n",
       "      <th>3</th>\n",
       "      <td>SL</td>\n",
       "      <td>2025-09-28</td>\n",
       "      <td>84.8</td>\n",
       "      <td>-2.33</td>\n",
       "      <td>4.72</td>\n",
       "      <td>Weissert, Greg</td>\n",
       "      <td>668670</td>\n",
       "      <td>669711</td>\n",
       "      <td>NaN</td>\n",
       "      <td>swinging_strike</td>\n",
       "      <td>...</td>\n",
       "      <td>27.083341</td>\n",
       "      <td>rogers</td>\n",
       "      <td>jake</td>\n",
       "      <td>668670</td>\n",
       "      <td>rogej004</td>\n",
       "      <td>rogerja03</td>\n",
       "      <td>19452</td>\n",
       "      <td>2019.0</td>\n",
       "      <td>2025.0</td>\n",
       "      <td>Rogers, Jake</td>\n",
       "    </tr>\n",
       "    <tr>\n",
       "      <th>4</th>\n",
       "      <td>SL</td>\n",
       "      <td>2025-09-28</td>\n",
       "      <td>85.3</td>\n",
       "      <td>-2.26</td>\n",
       "      <td>4.85</td>\n",
       "      <td>Weissert, Greg</td>\n",
       "      <td>668670</td>\n",
       "      <td>669711</td>\n",
       "      <td>NaN</td>\n",
       "      <td>called_strike</td>\n",
       "      <td>...</td>\n",
       "      <td>&lt;NA&gt;</td>\n",
       "      <td>rogers</td>\n",
       "      <td>jake</td>\n",
       "      <td>668670</td>\n",
       "      <td>rogej004</td>\n",
       "      <td>rogerja03</td>\n",
       "      <td>19452</td>\n",
       "      <td>2019.0</td>\n",
       "      <td>2025.0</td>\n",
       "      <td>Rogers, Jake</td>\n",
       "    </tr>\n",
       "  </tbody>\n",
       "</table>\n",
       "<p>5 rows × 127 columns</p>\n",
       "</div>"
      ],
      "text/plain": [
       "  pitch_type  game_date  release_speed  release_pos_x  release_pos_z  \\\n",
       "0         FF 2025-09-28           95.7          -2.15           5.21   \n",
       "1         FF 2025-09-28           95.1          -1.91            5.1   \n",
       "2         FF 2025-09-28           95.4          -1.99           5.22   \n",
       "3         SL 2025-09-28           84.8          -2.33           4.72   \n",
       "4         SL 2025-09-28           85.3          -2.26           4.85   \n",
       "\n",
       "     pitcher_name  batter  pitcher     events      description  ...  \\\n",
       "0  Weissert, Greg  678009   669711  field_out    hit_into_play  ...   \n",
       "1  Weissert, Greg  668670   669711  strikeout    called_strike  ...   \n",
       "2  Weissert, Greg  668670   669711        NaN             foul  ...   \n",
       "3  Weissert, Greg  668670   669711        NaN  swinging_strike  ...   \n",
       "4  Weissert, Greg  668670   669711        NaN    called_strike  ...   \n",
       "\n",
       "   intercept_ball_minus_batter_pos_y_inches  name_last  name_first  key_mlbam  \\\n",
       "0                                 30.599805    meadows      parker     678009   \n",
       "1                                      <NA>     rogers        jake     668670   \n",
       "2                                 15.582717     rogers        jake     668670   \n",
       "3                                 27.083341     rogers        jake     668670   \n",
       "4                                      <NA>     rogers        jake     668670   \n",
       "\n",
       "   key_retro  key_bbref key_fangraphs mlb_played_first mlb_played_last  \\\n",
       "0   meadp001  meadopa01         23800           2023.0          2025.0   \n",
       "1   rogej004  rogerja03         19452           2019.0          2025.0   \n",
       "2   rogej004  rogerja03         19452           2019.0          2025.0   \n",
       "3   rogej004  rogerja03         19452           2019.0          2025.0   \n",
       "4   rogej004  rogerja03         19452           2019.0          2025.0   \n",
       "\n",
       "       batter_name  \n",
       "0  Meadows, Parker  \n",
       "1     Rogers, Jake  \n",
       "2     Rogers, Jake  \n",
       "3     Rogers, Jake  \n",
       "4     Rogers, Jake  \n",
       "\n",
       "[5 rows x 127 columns]"
      ]
     },
     "execution_count": 15,
     "metadata": {},
     "output_type": "execute_result"
    }
   ],
   "source": [
    "player_data.head()"
   ]
  },
  {
   "cell_type": "code",
   "execution_count": 16,
   "id": "01f4c517",
   "metadata": {},
   "outputs": [
    {
     "data": {
      "text/html": [
       "<div>\n",
       "<style scoped>\n",
       "    .dataframe tbody tr th:only-of-type {\n",
       "        vertical-align: middle;\n",
       "    }\n",
       "\n",
       "    .dataframe tbody tr th {\n",
       "        vertical-align: top;\n",
       "    }\n",
       "\n",
       "    .dataframe thead th {\n",
       "        text-align: right;\n",
       "    }\n",
       "</style>\n",
       "<table border=\"1\" class=\"dataframe\">\n",
       "  <thead>\n",
       "    <tr style=\"text-align: right;\">\n",
       "      <th></th>\n",
       "      <th>pitch_type</th>\n",
       "      <th>game_date</th>\n",
       "      <th>release_speed</th>\n",
       "      <th>release_pos_x</th>\n",
       "      <th>release_pos_z</th>\n",
       "      <th>pitcher_name</th>\n",
       "      <th>batter</th>\n",
       "      <th>pitcher</th>\n",
       "      <th>events</th>\n",
       "      <th>description</th>\n",
       "      <th>...</th>\n",
       "      <th>api_break_z_with_gravity</th>\n",
       "      <th>api_break_x_arm</th>\n",
       "      <th>api_break_x_batter_in</th>\n",
       "      <th>arm_angle</th>\n",
       "      <th>attack_angle</th>\n",
       "      <th>attack_direction</th>\n",
       "      <th>swing_path_tilt</th>\n",
       "      <th>intercept_ball_minus_batter_pos_x_inches</th>\n",
       "      <th>intercept_ball_minus_batter_pos_y_inches</th>\n",
       "      <th>batter_name</th>\n",
       "    </tr>\n",
       "  </thead>\n",
       "  <tbody>\n",
       "    <tr>\n",
       "      <th>0</th>\n",
       "      <td>FF</td>\n",
       "      <td>2025-09-28</td>\n",
       "      <td>95.7</td>\n",
       "      <td>-2.15</td>\n",
       "      <td>5.21</td>\n",
       "      <td>Weissert, Greg</td>\n",
       "      <td>678009</td>\n",
       "      <td>669711</td>\n",
       "      <td>field_out</td>\n",
       "      <td>hit_into_play</td>\n",
       "      <td>...</td>\n",
       "      <td>1.56</td>\n",
       "      <td>0.71</td>\n",
       "      <td>-0.71</td>\n",
       "      <td>20.9</td>\n",
       "      <td>5.991833</td>\n",
       "      <td>-1.319512</td>\n",
       "      <td>28.782516</td>\n",
       "      <td>41.559201</td>\n",
       "      <td>30.599805</td>\n",
       "      <td>Meadows, Parker</td>\n",
       "    </tr>\n",
       "    <tr>\n",
       "      <th>1</th>\n",
       "      <td>FF</td>\n",
       "      <td>2025-09-28</td>\n",
       "      <td>95.1</td>\n",
       "      <td>-1.91</td>\n",
       "      <td>5.1</td>\n",
       "      <td>Weissert, Greg</td>\n",
       "      <td>668670</td>\n",
       "      <td>669711</td>\n",
       "      <td>strikeout</td>\n",
       "      <td>called_strike</td>\n",
       "      <td>...</td>\n",
       "      <td>1.59</td>\n",
       "      <td>0.93</td>\n",
       "      <td>0.93</td>\n",
       "      <td>20.5</td>\n",
       "      <td>&lt;NA&gt;</td>\n",
       "      <td>&lt;NA&gt;</td>\n",
       "      <td>&lt;NA&gt;</td>\n",
       "      <td>&lt;NA&gt;</td>\n",
       "      <td>&lt;NA&gt;</td>\n",
       "      <td>Rogers, Jake</td>\n",
       "    </tr>\n",
       "    <tr>\n",
       "      <th>2</th>\n",
       "      <td>FF</td>\n",
       "      <td>2025-09-28</td>\n",
       "      <td>95.4</td>\n",
       "      <td>-1.99</td>\n",
       "      <td>5.22</td>\n",
       "      <td>Weissert, Greg</td>\n",
       "      <td>668670</td>\n",
       "      <td>669711</td>\n",
       "      <td>NaN</td>\n",
       "      <td>foul</td>\n",
       "      <td>...</td>\n",
       "      <td>1.36</td>\n",
       "      <td>0.85</td>\n",
       "      <td>0.85</td>\n",
       "      <td>22.9</td>\n",
       "      <td>2.871131</td>\n",
       "      <td>31.805044</td>\n",
       "      <td>22.266527</td>\n",
       "      <td>37.478847</td>\n",
       "      <td>15.582717</td>\n",
       "      <td>Rogers, Jake</td>\n",
       "    </tr>\n",
       "    <tr>\n",
       "      <th>3</th>\n",
       "      <td>SL</td>\n",
       "      <td>2025-09-28</td>\n",
       "      <td>84.8</td>\n",
       "      <td>-2.33</td>\n",
       "      <td>4.72</td>\n",
       "      <td>Weissert, Greg</td>\n",
       "      <td>668670</td>\n",
       "      <td>669711</td>\n",
       "      <td>NaN</td>\n",
       "      <td>swinging_strike</td>\n",
       "      <td>...</td>\n",
       "      <td>2.55</td>\n",
       "      <td>-0.32</td>\n",
       "      <td>-0.32</td>\n",
       "      <td>12.3</td>\n",
       "      <td>13.78541</td>\n",
       "      <td>4.08139</td>\n",
       "      <td>32.414181</td>\n",
       "      <td>38.011685</td>\n",
       "      <td>27.083341</td>\n",
       "      <td>Rogers, Jake</td>\n",
       "    </tr>\n",
       "    <tr>\n",
       "      <th>4</th>\n",
       "      <td>SL</td>\n",
       "      <td>2025-09-28</td>\n",
       "      <td>85.3</td>\n",
       "      <td>-2.26</td>\n",
       "      <td>4.85</td>\n",
       "      <td>Weissert, Greg</td>\n",
       "      <td>668670</td>\n",
       "      <td>669711</td>\n",
       "      <td>NaN</td>\n",
       "      <td>called_strike</td>\n",
       "      <td>...</td>\n",
       "      <td>2.71</td>\n",
       "      <td>-0.52</td>\n",
       "      <td>-0.52</td>\n",
       "      <td>15.8</td>\n",
       "      <td>&lt;NA&gt;</td>\n",
       "      <td>&lt;NA&gt;</td>\n",
       "      <td>&lt;NA&gt;</td>\n",
       "      <td>&lt;NA&gt;</td>\n",
       "      <td>&lt;NA&gt;</td>\n",
       "      <td>Rogers, Jake</td>\n",
       "    </tr>\n",
       "  </tbody>\n",
       "</table>\n",
       "<p>5 rows × 119 columns</p>\n",
       "</div>"
      ],
      "text/plain": [
       "  pitch_type  game_date  release_speed  release_pos_x  release_pos_z  \\\n",
       "0         FF 2025-09-28           95.7          -2.15           5.21   \n",
       "1         FF 2025-09-28           95.1          -1.91            5.1   \n",
       "2         FF 2025-09-28           95.4          -1.99           5.22   \n",
       "3         SL 2025-09-28           84.8          -2.33           4.72   \n",
       "4         SL 2025-09-28           85.3          -2.26           4.85   \n",
       "\n",
       "     pitcher_name  batter  pitcher     events      description  ...  \\\n",
       "0  Weissert, Greg  678009   669711  field_out    hit_into_play  ...   \n",
       "1  Weissert, Greg  668670   669711  strikeout    called_strike  ...   \n",
       "2  Weissert, Greg  668670   669711        NaN             foul  ...   \n",
       "3  Weissert, Greg  668670   669711        NaN  swinging_strike  ...   \n",
       "4  Weissert, Greg  668670   669711        NaN    called_strike  ...   \n",
       "\n",
       "   api_break_z_with_gravity  api_break_x_arm  api_break_x_batter_in  \\\n",
       "0                      1.56             0.71                  -0.71   \n",
       "1                      1.59             0.93                   0.93   \n",
       "2                      1.36             0.85                   0.85   \n",
       "3                      2.55            -0.32                  -0.32   \n",
       "4                      2.71            -0.52                  -0.52   \n",
       "\n",
       "   arm_angle  attack_angle attack_direction swing_path_tilt  \\\n",
       "0       20.9      5.991833        -1.319512       28.782516   \n",
       "1       20.5          <NA>             <NA>            <NA>   \n",
       "2       22.9      2.871131        31.805044       22.266527   \n",
       "3       12.3      13.78541          4.08139       32.414181   \n",
       "4       15.8          <NA>             <NA>            <NA>   \n",
       "\n",
       "  intercept_ball_minus_batter_pos_x_inches  \\\n",
       "0                                41.559201   \n",
       "1                                     <NA>   \n",
       "2                                37.478847   \n",
       "3                                38.011685   \n",
       "4                                     <NA>   \n",
       "\n",
       "  intercept_ball_minus_batter_pos_y_inches      batter_name  \n",
       "0                                30.599805  Meadows, Parker  \n",
       "1                                     <NA>     Rogers, Jake  \n",
       "2                                15.582717     Rogers, Jake  \n",
       "3                                27.083341     Rogers, Jake  \n",
       "4                                     <NA>     Rogers, Jake  \n",
       "\n",
       "[5 rows x 119 columns]"
      ]
     },
     "execution_count": 16,
     "metadata": {},
     "output_type": "execute_result"
    }
   ],
   "source": [
    "# Let's drop extra columns that got brought over from batter_info\n",
    "player_data.drop(columns=['name_last', 'name_first', 'key_mlbam', 'key_fangraphs', 'key_bbref', 'mlb_played_first', 'mlb_played_last', 'key_retro'], inplace=True)\n",
    "player_data.head()"
   ]
  },
  {
   "cell_type": "code",
   "execution_count": 17,
   "id": "25e4bb18",
   "metadata": {},
   "outputs": [
    {
     "data": {
      "text/plain": [
       "description\n",
       "ball                       237985\n",
       "foul                       127268\n",
       "hit_into_play              124809\n",
       "called_strike              115490\n",
       "swinging_strike             74031\n",
       "blocked_ball                15122\n",
       "foul_tip                     7297\n",
       "swinging_strike_blocked      3990\n",
       "hit_by_pitch                 1927\n",
       "foul_bunt                    1245\n",
       "missed_bunt                   208\n",
       "pitchout                       54\n",
       "bunt_foul_tip                  33\n",
       "Name: count, dtype: int64"
      ]
     },
     "execution_count": 17,
     "metadata": {},
     "output_type": "execute_result"
    }
   ],
   "source": [
    "# Let's figure out how we're going to set up a target column\n",
    "player_data['description'].value_counts()"
   ]
  },
  {
   "cell_type": "code",
   "execution_count": 18,
   "id": "ce76261b",
   "metadata": {},
   "outputs": [
    {
     "data": {
      "text/plain": [
       "target\n",
       "Ball               253161\n",
       "Foul               128546\n",
       "In Play            124809\n",
       "Called Strike      115490\n",
       "Swinging Strike     85526\n",
       "Hit By Pitch         1927\n",
       "Name: count, dtype: int64"
      ]
     },
     "execution_count": 18,
     "metadata": {},
     "output_type": "execute_result"
    }
   ],
   "source": [
    "# Mapping the outcomes\n",
    "mapping = {\n",
    "    'ball': 'Ball',\n",
    "    'blocked_ball': 'Ball',\n",
    "    'intent_ball': 'Ball',\n",
    "    'pitchout': 'Ball',\n",
    "\n",
    "    'called_strike': 'Called Strike',\n",
    "\n",
    "    'swinging_strike': 'Swinging Strike',\n",
    "    'swinging_strike_blocked': 'Swinging Strike',\n",
    "    'foul_tip': 'Swinging Strike',\n",
    "    'missed_bunt': 'Swinging Strike',\n",
    "\n",
    "    'foul': 'Foul',\n",
    "    'foul_bunt': 'Foul',\n",
    "    'foul_pitchout': 'Foul',\n",
    "    'bunt_foul_tip': 'Foul',\n",
    "\n",
    "    'hit_into_play': 'In Play',\n",
    "\n",
    "    'hit_by_pitch': 'Hit By Pitch'\n",
    "}\n",
    "\n",
    "player_data['target'] = player_data['description'].map(mapping)\n",
    "player_data['target'].value_counts()"
   ]
  },
  {
   "cell_type": "code",
   "execution_count": 19,
   "id": "fed551ee",
   "metadata": {},
   "outputs": [
    {
     "data": {
      "image/png": "[encoded data removed]",
      "text/plain": [
       "<Figure size 640x480 with 1 Axes>"
      ]
     },
     "metadata": {},
     "output_type": "display_data"
    }
   ],
   "source": [
    "# Let's visualize the target\n",
    "fig, ax = plt.subplots()\n",
    "ax.pie(player_data['target'].value_counts(), labels=player_data['target'].value_counts().index, autopct='%1.1f%%', startangle=90)\n",
    "ax.set_title('Distribution of Pitch Outcomes');"
   ]
  },
  {
   "cell_type": "code",
   "execution_count": 20,
   "id": "9ff5d0f5",
   "metadata": {},
   "outputs": [
    {
     "data": {
      "text/plain": [
       "events\n",
       "field_out                    74248\n",
       "single                       26101\n",
       "double                        7737\n",
       "home_run                      5647\n",
       "force_out                     3360\n",
       "grounded_into_double_play     3109\n",
       "sac_fly                       1291\n",
       "field_error                   1010\n",
       "triple                         628\n",
       "sac_bunt                       560\n",
       "fielders_choice                387\n",
       "double_play                    376\n",
       "fielders_choice_out            325\n",
       "sac_fly_double_play             15\n",
       "catcher_interf                  12\n",
       "triple_play                      3\n",
       "Name: count, dtype: int64"
      ]
     },
     "execution_count": 20,
     "metadata": {},
     "output_type": "execute_result"
    }
   ],
   "source": [
    "# For my own curiosity, let's look into In Play outcomes\n",
    "player_data[player_data['target'] == 'In Play']['events'].value_counts()"
   ]
  },
  {
   "cell_type": "code",
   "execution_count": 21,
   "id": "ea0973ae",
   "metadata": {},
   "outputs": [
    {
     "data": {
      "text/plain": [
       "in_play_result\n",
       "Out      83675\n",
       "Hit      40113\n",
       "Error     1096\n",
       "Name: count, dtype: int64"
      ]
     },
     "execution_count": 21,
     "metadata": {},
     "output_type": "execute_result"
    }
   ],
   "source": [
    "events_mapping = {\n",
    "    'single': 'Hit',\n",
    "    'double': 'Hit',\n",
    "    'triple': 'Hit',\n",
    "    'home_run': 'Hit',\n",
    "\n",
    "    'field_out': 'Out',\n",
    "    'force_out': 'Out',\n",
    "    'grounded_into_double_play': 'Out',\n",
    "    'fielders_choice_out': 'Out',\n",
    "    'fielders_choice': 'Out',\n",
    "    'sac_fly': 'Out',\n",
    "    'sac_fly_double_play': 'Out',\n",
    "    'sac_bunt': 'Out',\n",
    "    'double_play': 'Out',\n",
    "    'triple_play': 'Out',\n",
    "\n",
    "    'field_error': 'Error',\n",
    "    'catcher_interf': 'Error'\n",
    "}\n",
    "\n",
    "player_data['in_play_result'] = player_data['events'].map(events_mapping)\n",
    "player_data['in_play_result'].value_counts()"
   ]
  },
  {
   "cell_type": "code",
   "execution_count": 22,
   "id": "16baa59d",
   "metadata": {},
   "outputs": [
    {
     "data": {
      "image/png": "[encoded data removed]",
      "text/plain": [
       "<Figure size 640x480 with 1 Axes>"
      ]
     },
     "metadata": {},
     "output_type": "display_data"
    }
   ],
   "source": [
    "fig, ax = plt.subplots()\n",
    "ax.pie(player_data['in_play_result'].value_counts(), labels=player_data['in_play_result'].value_counts().index, autopct='%1.1f%%', startangle=90)\n",
    "ax.set_title('Distribution of In Play Outcomes');"
   ]
  },
  {
   "cell_type": "code",
   "execution_count": 23,
   "id": "d1554927",
   "metadata": {},
   "outputs": [
    {
     "data": {
      "image/png": "[encoded data removed]",
      "text/plain": [
       "<Figure size 640x480 with 1 Axes>"
      ]
     },
     "metadata": {},
     "output_type": "display_data"
    }
   ],
   "source": [
    "# Pie chart showing distribution of hit types\n",
    "player_data[player_data['in_play_result'] == 'Hit']['events'].value_counts().plot.pie(autopct='%1.1f%%', startangle=90, title='Distribution of Hit Types');"
   ]
  },
  {
   "cell_type": "code",
   "execution_count": 24,
   "id": "83d2be7f",
   "metadata": {},
   "outputs": [
    {
     "data": {
      "text/html": [
       "<div>\n",
       "<style scoped>\n",
       "    .dataframe tbody tr th:only-of-type {\n",
       "        vertical-align: middle;\n",
       "    }\n",
       "\n",
       "    .dataframe tbody tr th {\n",
       "        vertical-align: top;\n",
       "    }\n",
       "\n",
       "    .dataframe thead th {\n",
       "        text-align: right;\n",
       "    }\n",
       "</style>\n",
       "<table border=\"1\" class=\"dataframe\">\n",
       "  <thead>\n",
       "    <tr style=\"text-align: right;\">\n",
       "      <th></th>\n",
       "      <th>pitch_type</th>\n",
       "      <th>release_speed</th>\n",
       "      <th>release_pos_x</th>\n",
       "      <th>release_pos_y</th>\n",
       "      <th>release_pos_z</th>\n",
       "      <th>pitcher_name</th>\n",
       "      <th>batter_name</th>\n",
       "      <th>zone</th>\n",
       "      <th>p_throws</th>\n",
       "      <th>stand</th>\n",
       "      <th>...</th>\n",
       "      <th>vx0</th>\n",
       "      <th>vy0</th>\n",
       "      <th>vz0</th>\n",
       "      <th>ax</th>\n",
       "      <th>ay</th>\n",
       "      <th>az</th>\n",
       "      <th>release_spin_rate</th>\n",
       "      <th>release_extension</th>\n",
       "      <th>target</th>\n",
       "      <th>in_play_result</th>\n",
       "    </tr>\n",
       "  </thead>\n",
       "  <tbody>\n",
       "    <tr>\n",
       "      <th>0</th>\n",
       "      <td>FF</td>\n",
       "      <td>95.7</td>\n",
       "      <td>-2.15</td>\n",
       "      <td>54.67</td>\n",
       "      <td>5.21</td>\n",
       "      <td>Weissert, Greg</td>\n",
       "      <td>Meadows, Parker</td>\n",
       "      <td>1</td>\n",
       "      <td>R</td>\n",
       "      <td>L</td>\n",
       "      <td>...</td>\n",
       "      <td>6.169368</td>\n",
       "      <td>-139.262184</td>\n",
       "      <td>-2.088523</td>\n",
       "      <td>-10.601017</td>\n",
       "      <td>31.025947</td>\n",
       "      <td>-19.832498</td>\n",
       "      <td>2370</td>\n",
       "      <td>5.8</td>\n",
       "      <td>In Play</td>\n",
       "      <td>Out</td>\n",
       "    </tr>\n",
       "    <tr>\n",
       "      <th>1</th>\n",
       "      <td>FF</td>\n",
       "      <td>95.1</td>\n",
       "      <td>-1.91</td>\n",
       "      <td>53.86</td>\n",
       "      <td>5.1</td>\n",
       "      <td>Weissert, Greg</td>\n",
       "      <td>Rogers, Jake</td>\n",
       "      <td>6</td>\n",
       "      <td>R</td>\n",
       "      <td>R</td>\n",
       "      <td>...</td>\n",
       "      <td>8.617368</td>\n",
       "      <td>-138.217784</td>\n",
       "      <td>-3.023825</td>\n",
       "      <td>-13.845463</td>\n",
       "      <td>30.454633</td>\n",
       "      <td>-19.764496</td>\n",
       "      <td>2309</td>\n",
       "      <td>6.6</td>\n",
       "      <td>Called Strike</td>\n",
       "      <td>NaN</td>\n",
       "    </tr>\n",
       "    <tr>\n",
       "      <th>2</th>\n",
       "      <td>FF</td>\n",
       "      <td>95.4</td>\n",
       "      <td>-1.99</td>\n",
       "      <td>54.75</td>\n",
       "      <td>5.22</td>\n",
       "      <td>Weissert, Greg</td>\n",
       "      <td>Rogers, Jake</td>\n",
       "      <td>2</td>\n",
       "      <td>R</td>\n",
       "      <td>R</td>\n",
       "      <td>...</td>\n",
       "      <td>7.213709</td>\n",
       "      <td>-138.740928</td>\n",
       "      <td>-1.962713</td>\n",
       "      <td>-12.54588</td>\n",
       "      <td>30.045431</td>\n",
       "      <td>-17.188392</td>\n",
       "      <td>2314</td>\n",
       "      <td>5.8</td>\n",
       "      <td>Foul</td>\n",
       "      <td>NaN</td>\n",
       "    </tr>\n",
       "    <tr>\n",
       "      <th>3</th>\n",
       "      <td>SL</td>\n",
       "      <td>84.8</td>\n",
       "      <td>-2.33</td>\n",
       "      <td>54.14</td>\n",
       "      <td>4.72</td>\n",
       "      <td>Weissert, Greg</td>\n",
       "      <td>Rogers, Jake</td>\n",
       "      <td>5</td>\n",
       "      <td>R</td>\n",
       "      <td>R</td>\n",
       "      <td>...</td>\n",
       "      <td>5.156934</td>\n",
       "      <td>-123.459684</td>\n",
       "      <td>0.134447</td>\n",
       "      <td>2.225813</td>\n",
       "      <td>24.4588</td>\n",
       "      <td>-26.088975</td>\n",
       "      <td>2528</td>\n",
       "      <td>6.4</td>\n",
       "      <td>Swinging Strike</td>\n",
       "      <td>NaN</td>\n",
       "    </tr>\n",
       "    <tr>\n",
       "      <th>4</th>\n",
       "      <td>SL</td>\n",
       "      <td>85.3</td>\n",
       "      <td>-2.26</td>\n",
       "      <td>54.55</td>\n",
       "      <td>4.85</td>\n",
       "      <td>Weissert, Greg</td>\n",
       "      <td>Rogers, Jake</td>\n",
       "      <td>12</td>\n",
       "      <td>R</td>\n",
       "      <td>R</td>\n",
       "      <td>...</td>\n",
       "      <td>6.425252</td>\n",
       "      <td>-124.208027</td>\n",
       "      <td>0.091855</td>\n",
       "      <td>4.131948</td>\n",
       "      <td>23.966198</td>\n",
       "      <td>-28.183591</td>\n",
       "      <td>2548</td>\n",
       "      <td>5.9</td>\n",
       "      <td>Called Strike</td>\n",
       "      <td>NaN</td>\n",
       "    </tr>\n",
       "  </tbody>\n",
       "</table>\n",
       "<p>5 rows × 22 columns</p>\n",
       "</div>"
      ],
      "text/plain": [
       "  pitch_type  release_speed  release_pos_x  release_pos_y  release_pos_z  \\\n",
       "0         FF           95.7          -2.15          54.67           5.21   \n",
       "1         FF           95.1          -1.91          53.86            5.1   \n",
       "2         FF           95.4          -1.99          54.75           5.22   \n",
       "3         SL           84.8          -2.33          54.14           4.72   \n",
       "4         SL           85.3          -2.26          54.55           4.85   \n",
       "\n",
       "     pitcher_name      batter_name  zone p_throws stand  ...       vx0  \\\n",
       "0  Weissert, Greg  Meadows, Parker     1        R     L  ...  6.169368   \n",
       "1  Weissert, Greg     Rogers, Jake     6        R     R  ...  8.617368   \n",
       "2  Weissert, Greg     Rogers, Jake     2        R     R  ...  7.213709   \n",
       "3  Weissert, Greg     Rogers, Jake     5        R     R  ...  5.156934   \n",
       "4  Weissert, Greg     Rogers, Jake    12        R     R  ...  6.425252   \n",
       "\n",
       "          vy0       vz0         ax         ay         az  release_spin_rate  \\\n",
       "0 -139.262184 -2.088523 -10.601017  31.025947 -19.832498               2370   \n",
       "1 -138.217784 -3.023825 -13.845463  30.454633 -19.764496               2309   \n",
       "2 -138.740928 -1.962713  -12.54588  30.045431 -17.188392               2314   \n",
       "3 -123.459684  0.134447   2.225813    24.4588 -26.088975               2528   \n",
       "4 -124.208027  0.091855   4.131948  23.966198 -28.183591               2548   \n",
       "\n",
       "   release_extension           target  in_play_result  \n",
       "0                5.8          In Play             Out  \n",
       "1                6.6    Called Strike             NaN  \n",
       "2                5.8             Foul             NaN  \n",
       "3                6.4  Swinging Strike             NaN  \n",
       "4                5.9    Called Strike             NaN  \n",
       "\n",
       "[5 rows x 22 columns]"
      ]
     },
     "execution_count": 24,
     "metadata": {},
     "output_type": "execute_result"
    }
   ],
   "source": [
    "# Let's trim the data down to just what we need for modeling\n",
    "# Reminder player_name is now pitcher_name\n",
    "useful_df = player_data[['pitch_type', 'release_speed', 'release_pos_x', 'release_pos_y', 'release_pos_z', 'pitcher_name', 'batter_name', 'zone', \n",
    "                         'p_throws', 'stand', 'pfx_x', 'pfx_z', 'vx0', 'vy0', 'vz0', 'ax', 'ay', 'az', 'release_spin_rate', 'release_extension', 'target', 'in_play_result']]\n",
    "\n",
    "useful_df.head()"
   ]
  },
  {
   "cell_type": "code",
   "execution_count": 25,
   "id": "42252093",
   "metadata": {},
   "outputs": [
    {
     "data": {
      "text/plain": [
       "pitch_type            object\n",
       "release_speed        Float64\n",
       "release_pos_x        Float64\n",
       "release_pos_y        Float64\n",
       "release_pos_z        Float64\n",
       "pitcher_name          object\n",
       "batter_name           object\n",
       "zone                   Int64\n",
       "p_throws              object\n",
       "stand                 object\n",
       "pfx_x                Float64\n",
       "pfx_z                Float64\n",
       "vx0                  Float64\n",
       "vy0                  Float64\n",
       "vz0                  Float64\n",
       "ax                   Float64\n",
       "ay                   Float64\n",
       "az                   Float64\n",
       "release_spin_rate      Int64\n",
       "release_extension    Float64\n",
       "target                object\n",
       "in_play_result        object\n",
       "dtype: object"
      ]
     },
     "execution_count": 25,
     "metadata": {},
     "output_type": "execute_result"
    }
   ],
   "source": [
    "useful_df.dtypes"
   ]
  },
  {
   "cell_type": "code",
   "execution_count": 26,
   "id": "53aef14a",
   "metadata": {},
   "outputs": [
    {
     "data": {
      "text/plain": [
       "pitch_type              187\n",
       "release_speed           192\n",
       "release_pos_x           190\n",
       "release_pos_y           190\n",
       "release_pos_z           190\n",
       "pitcher_name              0\n",
       "batter_name               0\n",
       "zone                    190\n",
       "p_throws                  0\n",
       "stand                     0\n",
       "pfx_x                   323\n",
       "pfx_z                   190\n",
       "vx0                     190\n",
       "vy0                     190\n",
       "vz0                     190\n",
       "ax                      190\n",
       "ay                      190\n",
       "az                      190\n",
       "release_spin_rate      1946\n",
       "release_extension       274\n",
       "target                    0\n",
       "in_play_result       584575\n",
       "dtype: int64"
      ]
     },
     "execution_count": 26,
     "metadata": {},
     "output_type": "execute_result"
    }
   ],
   "source": [
    "useful_df.isna().sum()"
   ]
  },
  {
   "cell_type": "code",
   "execution_count": 27,
   "id": "212c28d6",
   "metadata": {},
   "outputs": [
    {
     "data": {
      "text/plain": [
       "pitch_type                0\n",
       "release_speed             2\n",
       "release_pos_x             0\n",
       "release_pos_y             0\n",
       "release_pos_z             0\n",
       "pitcher_name              0\n",
       "batter_name               0\n",
       "zone                      0\n",
       "p_throws                  0\n",
       "stand                     0\n",
       "pfx_x                   133\n",
       "pfx_z                     0\n",
       "vx0                       0\n",
       "vy0                       0\n",
       "vz0                       0\n",
       "ax                        0\n",
       "ay                        0\n",
       "az                        0\n",
       "release_spin_rate      1759\n",
       "release_extension        87\n",
       "target                    0\n",
       "in_play_result       584420\n",
       "dtype: int64"
      ]
     },
     "execution_count": 27,
     "metadata": {},
     "output_type": "execute_result"
    }
   ],
   "source": [
    "# Drop rows where pitch_type is NaN, as pitch_type is going to be key to predicting/future uses of this model\n",
    "\n",
    "useful_df.dropna(subset=['pitch_type', 'zone'], inplace=True)\n",
    "useful_df.isna().sum()"
   ]
  },
  {
   "cell_type": "code",
   "execution_count": 28,
   "id": "2d68c389",
   "metadata": {},
   "outputs": [
    {
     "data": {
      "text/plain": [
       "pitch_type                0\n",
       "release_speed             0\n",
       "release_pos_x             0\n",
       "release_pos_y             0\n",
       "release_pos_z             0\n",
       "pitcher_name              0\n",
       "batter_name               0\n",
       "zone                      0\n",
       "p_throws                  0\n",
       "stand                     0\n",
       "pfx_x                     0\n",
       "pfx_z                     0\n",
       "vx0                       0\n",
       "vy0                       0\n",
       "vz0                       0\n",
       "ax                        0\n",
       "ay                        0\n",
       "az                        0\n",
       "release_spin_rate         0\n",
       "release_extension         0\n",
       "target                    0\n",
       "in_play_result       584420\n",
       "dtype: int64"
      ]
     },
     "execution_count": 28,
     "metadata": {},
     "output_type": "execute_result"
    }
   ],
   "source": [
    "# Convert release_spin_rate to float\n",
    "useful_df['release_spin_rate'] = useful_df['release_spin_rate'].astype(float)\n",
    "\n",
    "# Fill the rest of the null values (except in_play_result) with the mean of their respective columns\n",
    "\n",
    "useful_df.fillna(useful_df.mean(numeric_only=True), inplace=True)\n",
    "useful_df.isna().sum()"
   ]
  },
  {
   "cell_type": "code",
   "execution_count": 29,
   "id": "b517df2c",
   "metadata": {},
   "outputs": [],
   "source": [
    "# Split into X & y\n",
    "X = useful_df.drop(columns=['target', 'in_play_result', 'pitcher_name', 'batter_name'], axis=1)\n",
    "y = useful_df['target']"
   ]
  },
  {
   "cell_type": "code",
   "execution_count": 30,
   "id": "ac142d9a",
   "metadata": {},
   "outputs": [],
   "source": [
    "# Categorize the categorical columns\n",
    "from sklearn.preprocessing import OneHotEncoder\n",
    "from sklearn.compose import ColumnTransformer\n",
    "\n",
    "categorical_cols = ['pitch_type', 'p_throws', 'stand', 'zone']\n",
    "one_hot = OneHotEncoder()\n",
    "transformer = ColumnTransformer([('one_hot', one_hot, categorical_cols)], remainder='passthrough')\n",
    "\n",
    "X_encoded = transformer.fit_transform(X)"
   ]
  },
  {
   "cell_type": "markdown",
   "id": "7d4a85d8",
   "metadata": {},
   "source": [
    "## 2. Choose the right algorithm for our problem\n",
    "\n",
    "Selecting a model from https://scikit-learn.org/stable/machine_learning_map.html\n",
    "\n",
    "Following the flow chart, we take the following path:\n",
    "* I have more than 50 samples\n",
    "* I am predicting a category\n",
    "* I have labeled data\n",
    "* I have more than 100k samples\n",
    "\n",
    "As such, the flow chart suggests using the SGD Classifier algorithm, so that is what I will do."
   ]
  },
  {
   "cell_type": "code",
   "execution_count": 31,
   "id": "7b744bca",
   "metadata": {},
   "outputs": [
    {
     "name": "stdout",
     "output_type": "stream",
     "text": [
      "Accuracy: 0.47926036629210317\n"
     ]
    }
   ],
   "source": [
    "# Instantiate and fit an SGDClassifier model\n",
    "from sklearn.linear_model import SGDClassifier\n",
    "from sklearn.model_selection import train_test_split\n",
    "from sklearn.metrics import accuracy_score\n",
    "\n",
    "# Train/test split\n",
    "X_train, X_test, y_train, y_test = train_test_split(X_encoded, y, test_size=0.2, random_state=42)\n",
    "\n",
    "# Instantiate the model\n",
    "clf = SGDClassifier(loss='hinge', max_iter=2000, random_state=42)\n",
    "\n",
    "# Train model\n",
    "clf.fit(X_train, y_train)\n",
    "\n",
    "# Make predictions\n",
    "y_preds = clf.predict(X_test)\n",
    "\n",
    "# Evaluate the model\n",
    "print(\"Accuracy:\", accuracy_score(y_test, y_preds))"
   ]
  },
  {
   "cell_type": "code",
   "execution_count": 32,
   "id": "96dbdf3a",
   "metadata": {},
   "outputs": [
    {
     "data": {
      "text/plain": [
       "array(['Called Strike', 'Ball', 'Called Strike', 'Called Strike', 'Ball',\n",
       "       'Called Strike', 'Ball', 'Ball', 'Called Strike', 'Ball'],\n",
       "      dtype='<U15')"
      ]
     },
     "execution_count": 32,
     "metadata": {},
     "output_type": "execute_result"
    }
   ],
   "source": [
    "y_preds[:10]"
   ]
  },
  {
   "cell_type": "code",
   "execution_count": 33,
   "id": "569283c1",
   "metadata": {},
   "outputs": [
    {
     "data": {
      "text/plain": [
       "245402    Called Strike\n",
       "28314              Foul\n",
       "425849    Called Strike\n",
       "31284           In Play\n",
       "197724             Ball\n",
       "361966          In Play\n",
       "41983              Ball\n",
       "55310              Ball\n",
       "460398    Called Strike\n",
       "496323             Ball\n",
       "Name: target, dtype: object"
      ]
     },
     "execution_count": 33,
     "metadata": {},
     "output_type": "execute_result"
    }
   ],
   "source": [
    "y_test[:10]"
   ]
  },
  {
   "cell_type": "markdown",
   "id": "d1ac0b08",
   "metadata": {},
   "source": [
    "We only got 0.4797538314041197 accuracy, which is less than ideal. The flow chart also says we can try out the Kernel Approximation algorithm if the SGD Classifier doesn't work out. Let's try that."
   ]
  },
  {
   "cell_type": "code",
   "execution_count": 34,
   "id": "e3dcdc25",
   "metadata": {},
   "outputs": [
    {
     "data": {
      "text/plain": [
       "0.3009323683961938"
      ]
     },
     "execution_count": 34,
     "metadata": {},
     "output_type": "execute_result"
    }
   ],
   "source": [
    "# Let's test out kernel approximation\n",
    "from sklearn.kernel_approximation import RBFSampler\n",
    "from sklearn.linear_model import SGDClassifier\n",
    "\n",
    "rbf_feature = RBFSampler(gamma=1, random_state=42)\n",
    "X_features = rbf_feature.fit_transform(X_encoded)\n",
    "clf = SGDClassifier(max_iter=2000)\n",
    "clf.fit(X_features, y)\n",
    "clf.score(X_features, y)"
   ]
  },
  {
   "cell_type": "markdown",
   "id": "ad717d39",
   "metadata": {},
   "source": [
    "## 3. Fit the model\n",
    "\n",
    "Accuracy dropped to 0.23257325499916112 with the Kernel Approximation, so I'm gonna go back to tune up the SGD Classifier model."
   ]
  },
  {
   "cell_type": "code",
   "execution_count": 35,
   "id": "b80a1a11",
   "metadata": {},
   "outputs": [
    {
     "name": "stdout",
     "output_type": "stream",
     "text": [
      "Accuracy: 0.47926036629210317\n"
     ]
    }
   ],
   "source": [
    "# Ok let's go back to the SGDClassifier and see if we can improve it\n",
    "from sklearn.linear_model import SGDClassifier\n",
    "from sklearn.model_selection import train_test_split\n",
    "from sklearn.metrics import accuracy_score\n",
    "\n",
    "# Train/test split\n",
    "X_train, X_test, y_train, y_test = train_test_split(X_encoded, y, test_size=0.2, random_state=42)\n",
    "\n",
    "# Instantiate the model\n",
    "# I will keep track here of different loss functions and their accuracies to keep it all in this cell\n",
    "# hinge (above): 0.4940887477913608\n",
    "# log_loss: 0.20805022050479077\n",
    "# modified_huber: 0.3849352850760634\n",
    "# squared_hinge: 0.4789263499633689\n",
    "# perceptron: 0.48097338140864493\n",
    "clf = SGDClassifier(loss='hinge', max_iter=2000, random_state=42)\n",
    "\n",
    "# Train model\n",
    "clf.fit(X_train, y_train)\n",
    "\n",
    "# Make predictions\n",
    "y_preds = clf.predict(X_test)\n",
    "\n",
    "# Evaluate the model\n",
    "print(\"Accuracy:\", accuracy_score(y_test, y_preds))"
   ]
  },
  {
   "cell_type": "markdown",
   "id": "79dfd7dd",
   "metadata": {},
   "source": [
    "## 4. Evaluate the model\n",
    "\n",
    "Now that I have chosen a model, let's evaluate how it has done"
   ]
  },
  {
   "cell_type": "code",
   "execution_count": 36,
   "id": "fc71be57",
   "metadata": {},
   "outputs": [
    {
     "data": {
      "text/plain": [
       "<sklearn.metrics._plot.confusion_matrix.ConfusionMatrixDisplay at 0x2100ae56ba0>"
      ]
     },
     "execution_count": 36,
     "metadata": {},
     "output_type": "execute_result"
    },
    {
     "data": {
      "image/png": "[encoded data removed]",
      "text/plain": [
       "<Figure size 640x480 with 2 Axes>"
      ]
     },
     "metadata": {},
     "output_type": "display_data"
    }
   ],
   "source": [
    "from sklearn.metrics import confusion_matrix, ConfusionMatrixDisplay\n",
    "cm = confusion_matrix(y_test, y_preds, labels=clf.classes_)\n",
    "disp = ConfusionMatrixDisplay(confusion_matrix=cm, display_labels=clf.classes_)\n",
    "disp.plot(cmap=plt.cm.Blues)"
   ]
  },
  {
   "cell_type": "markdown",
   "id": "212c6d60",
   "metadata": {},
   "source": [
    "## 5. Improve the model\n",
    "\n",
    "The model is still all over the place, so I'm going to start by simplifying things to make it easier for the algorithm. Instead of trying to predict what the exact outcomes of each pitch will be, I will break it down to a binary outcome; strike or no strike."
   ]
  },
  {
   "cell_type": "code",
   "execution_count": 37,
   "id": "bace5831",
   "metadata": {},
   "outputs": [
    {
     "data": {
      "text/html": [
       "<div>\n",
       "<style scoped>\n",
       "    .dataframe tbody tr th:only-of-type {\n",
       "        vertical-align: middle;\n",
       "    }\n",
       "\n",
       "    .dataframe tbody tr th {\n",
       "        vertical-align: top;\n",
       "    }\n",
       "\n",
       "    .dataframe thead th {\n",
       "        text-align: right;\n",
       "    }\n",
       "</style>\n",
       "<table border=\"1\" class=\"dataframe\">\n",
       "  <thead>\n",
       "    <tr style=\"text-align: right;\">\n",
       "      <th></th>\n",
       "      <th>pitch_type</th>\n",
       "      <th>release_speed</th>\n",
       "      <th>release_pos_x</th>\n",
       "      <th>release_pos_y</th>\n",
       "      <th>release_pos_z</th>\n",
       "      <th>pitcher_name</th>\n",
       "      <th>batter_name</th>\n",
       "      <th>zone</th>\n",
       "      <th>p_throws</th>\n",
       "      <th>stand</th>\n",
       "      <th>...</th>\n",
       "      <th>vx0</th>\n",
       "      <th>vy0</th>\n",
       "      <th>vz0</th>\n",
       "      <th>ax</th>\n",
       "      <th>ay</th>\n",
       "      <th>az</th>\n",
       "      <th>release_spin_rate</th>\n",
       "      <th>release_extension</th>\n",
       "      <th>target</th>\n",
       "      <th>in_play_result</th>\n",
       "    </tr>\n",
       "  </thead>\n",
       "  <tbody>\n",
       "    <tr>\n",
       "      <th>0</th>\n",
       "      <td>FF</td>\n",
       "      <td>95.7</td>\n",
       "      <td>-2.15</td>\n",
       "      <td>54.67</td>\n",
       "      <td>5.21</td>\n",
       "      <td>Weissert, Greg</td>\n",
       "      <td>Meadows, Parker</td>\n",
       "      <td>1</td>\n",
       "      <td>R</td>\n",
       "      <td>L</td>\n",
       "      <td>...</td>\n",
       "      <td>6.169368</td>\n",
       "      <td>-139.262184</td>\n",
       "      <td>-2.088523</td>\n",
       "      <td>-10.601017</td>\n",
       "      <td>31.025947</td>\n",
       "      <td>-19.832498</td>\n",
       "      <td>2370.0</td>\n",
       "      <td>5.8</td>\n",
       "      <td>In Play</td>\n",
       "      <td>Out</td>\n",
       "    </tr>\n",
       "    <tr>\n",
       "      <th>1</th>\n",
       "      <td>FF</td>\n",
       "      <td>95.1</td>\n",
       "      <td>-1.91</td>\n",
       "      <td>53.86</td>\n",
       "      <td>5.1</td>\n",
       "      <td>Weissert, Greg</td>\n",
       "      <td>Rogers, Jake</td>\n",
       "      <td>6</td>\n",
       "      <td>R</td>\n",
       "      <td>R</td>\n",
       "      <td>...</td>\n",
       "      <td>8.617368</td>\n",
       "      <td>-138.217784</td>\n",
       "      <td>-3.023825</td>\n",
       "      <td>-13.845463</td>\n",
       "      <td>30.454633</td>\n",
       "      <td>-19.764496</td>\n",
       "      <td>2309.0</td>\n",
       "      <td>6.6</td>\n",
       "      <td>Called Strike</td>\n",
       "      <td>NaN</td>\n",
       "    </tr>\n",
       "    <tr>\n",
       "      <th>2</th>\n",
       "      <td>FF</td>\n",
       "      <td>95.4</td>\n",
       "      <td>-1.99</td>\n",
       "      <td>54.75</td>\n",
       "      <td>5.22</td>\n",
       "      <td>Weissert, Greg</td>\n",
       "      <td>Rogers, Jake</td>\n",
       "      <td>2</td>\n",
       "      <td>R</td>\n",
       "      <td>R</td>\n",
       "      <td>...</td>\n",
       "      <td>7.213709</td>\n",
       "      <td>-138.740928</td>\n",
       "      <td>-1.962713</td>\n",
       "      <td>-12.54588</td>\n",
       "      <td>30.045431</td>\n",
       "      <td>-17.188392</td>\n",
       "      <td>2314.0</td>\n",
       "      <td>5.8</td>\n",
       "      <td>Foul</td>\n",
       "      <td>NaN</td>\n",
       "    </tr>\n",
       "    <tr>\n",
       "      <th>3</th>\n",
       "      <td>SL</td>\n",
       "      <td>84.8</td>\n",
       "      <td>-2.33</td>\n",
       "      <td>54.14</td>\n",
       "      <td>4.72</td>\n",
       "      <td>Weissert, Greg</td>\n",
       "      <td>Rogers, Jake</td>\n",
       "      <td>5</td>\n",
       "      <td>R</td>\n",
       "      <td>R</td>\n",
       "      <td>...</td>\n",
       "      <td>5.156934</td>\n",
       "      <td>-123.459684</td>\n",
       "      <td>0.134447</td>\n",
       "      <td>2.225813</td>\n",
       "      <td>24.4588</td>\n",
       "      <td>-26.088975</td>\n",
       "      <td>2528.0</td>\n",
       "      <td>6.4</td>\n",
       "      <td>Swinging Strike</td>\n",
       "      <td>NaN</td>\n",
       "    </tr>\n",
       "    <tr>\n",
       "      <th>4</th>\n",
       "      <td>SL</td>\n",
       "      <td>85.3</td>\n",
       "      <td>-2.26</td>\n",
       "      <td>54.55</td>\n",
       "      <td>4.85</td>\n",
       "      <td>Weissert, Greg</td>\n",
       "      <td>Rogers, Jake</td>\n",
       "      <td>12</td>\n",
       "      <td>R</td>\n",
       "      <td>R</td>\n",
       "      <td>...</td>\n",
       "      <td>6.425252</td>\n",
       "      <td>-124.208027</td>\n",
       "      <td>0.091855</td>\n",
       "      <td>4.131948</td>\n",
       "      <td>23.966198</td>\n",
       "      <td>-28.183591</td>\n",
       "      <td>2548.0</td>\n",
       "      <td>5.9</td>\n",
       "      <td>Called Strike</td>\n",
       "      <td>NaN</td>\n",
       "    </tr>\n",
       "  </tbody>\n",
       "</table>\n",
       "<p>5 rows × 22 columns</p>\n",
       "</div>"
      ],
      "text/plain": [
       "  pitch_type  release_speed  release_pos_x  release_pos_y  release_pos_z  \\\n",
       "0         FF           95.7          -2.15          54.67           5.21   \n",
       "1         FF           95.1          -1.91          53.86            5.1   \n",
       "2         FF           95.4          -1.99          54.75           5.22   \n",
       "3         SL           84.8          -2.33          54.14           4.72   \n",
       "4         SL           85.3          -2.26          54.55           4.85   \n",
       "\n",
       "     pitcher_name      batter_name  zone p_throws stand  ...       vx0  \\\n",
       "0  Weissert, Greg  Meadows, Parker     1        R     L  ...  6.169368   \n",
       "1  Weissert, Greg     Rogers, Jake     6        R     R  ...  8.617368   \n",
       "2  Weissert, Greg     Rogers, Jake     2        R     R  ...  7.213709   \n",
       "3  Weissert, Greg     Rogers, Jake     5        R     R  ...  5.156934   \n",
       "4  Weissert, Greg     Rogers, Jake    12        R     R  ...  6.425252   \n",
       "\n",
       "          vy0       vz0         ax         ay         az  release_spin_rate  \\\n",
       "0 -139.262184 -2.088523 -10.601017  31.025947 -19.832498             2370.0   \n",
       "1 -138.217784 -3.023825 -13.845463  30.454633 -19.764496             2309.0   \n",
       "2 -138.740928 -1.962713  -12.54588  30.045431 -17.188392             2314.0   \n",
       "3 -123.459684  0.134447   2.225813    24.4588 -26.088975             2528.0   \n",
       "4 -124.208027  0.091855   4.131948  23.966198 -28.183591             2548.0   \n",
       "\n",
       "   release_extension           target  in_play_result  \n",
       "0                5.8          In Play             Out  \n",
       "1                6.6    Called Strike             NaN  \n",
       "2                5.8             Foul             NaN  \n",
       "3                6.4  Swinging Strike             NaN  \n",
       "4                5.9    Called Strike             NaN  \n",
       "\n",
       "[5 rows x 22 columns]"
      ]
     },
     "execution_count": 37,
     "metadata": {},
     "output_type": "execute_result"
    }
   ],
   "source": [
    "# I think I want to simplify the target to just is it a strike or not\n",
    "# What we really care about is getting strikes and avoiding everything else\n",
    "# First let's remind ourselves of the useful_df DataFrame\n",
    "useful_df.head()"
   ]
  },
  {
   "cell_type": "code",
   "execution_count": 38,
   "id": "87178c79",
   "metadata": {},
   "outputs": [
    {
     "data": {
      "text/plain": [
       "target\n",
       "Ball               253103\n",
       "Foul               128492\n",
       "In Play            124774\n",
       "Called Strike      115464\n",
       "Swinging Strike     85509\n",
       "Hit By Pitch         1927\n",
       "Name: count, dtype: int64"
      ]
     },
     "execution_count": 38,
     "metadata": {},
     "output_type": "execute_result"
    }
   ],
   "source": [
    "useful_df['target'].value_counts()"
   ]
  },
  {
   "cell_type": "code",
   "execution_count": 39,
   "id": "577332ff",
   "metadata": {},
   "outputs": [
    {
     "data": {
      "text/plain": [
       "is_strike\n",
       "0    379804\n",
       "1    329465\n",
       "Name: count, dtype: int64"
      ]
     },
     "execution_count": 39,
     "metadata": {},
     "output_type": "execute_result"
    }
   ],
   "source": [
    "# Now let's create a new target column called is_strike\n",
    "useful_df['is_strike'] = useful_df['target'].apply(lambda x: 1 if x in ['Called Strike', 'Swinging Strike', 'Foul'] else 0)\n",
    "useful_df['is_strike'].value_counts()"
   ]
  },
  {
   "cell_type": "code",
   "execution_count": 40,
   "id": "832c2f83",
   "metadata": {},
   "outputs": [
    {
     "data": {
      "text/plain": [
       "pitch_type                0\n",
       "release_speed             0\n",
       "release_pos_x             0\n",
       "release_pos_y             0\n",
       "release_pos_z             0\n",
       "pitcher_name              0\n",
       "batter_name               0\n",
       "zone                      0\n",
       "p_throws                  0\n",
       "stand                     0\n",
       "pfx_x                     0\n",
       "pfx_z                     0\n",
       "vx0                       0\n",
       "vy0                       0\n",
       "vz0                       0\n",
       "ax                        0\n",
       "ay                        0\n",
       "az                        0\n",
       "release_spin_rate         0\n",
       "release_extension         0\n",
       "target                    0\n",
       "in_play_result       584420\n",
       "is_strike                 0\n",
       "dtype: int64"
      ]
     },
     "execution_count": 40,
     "metadata": {},
     "output_type": "execute_result"
    }
   ],
   "source": [
    "useful_df.isna().sum()"
   ]
  },
  {
   "cell_type": "code",
   "execution_count": 41,
   "id": "d34e29d1",
   "metadata": {},
   "outputs": [
    {
     "name": "stdout",
     "output_type": "stream",
     "text": [
      "Accuracy: 0.46627518434446685\n"
     ]
    }
   ],
   "source": [
    "# Now let's import train_test_split again and create new X & y with is_strike as the target\n",
    "from sklearn.model_selection import train_test_split\n",
    "\n",
    "# Split into X & y\n",
    "X = useful_df.drop(columns=['target', 'in_play_result', 'pitcher_name', 'batter_name', 'is_strike'], axis=1)\n",
    "y = useful_df['is_strike']\n",
    "\n",
    "# Categorize the categorical columns\n",
    "from sklearn.preprocessing import OneHotEncoder\n",
    "from sklearn.compose import ColumnTransformer\n",
    "\n",
    "categorical_cols = ['pitch_type', 'p_throws', 'stand', 'zone']\n",
    "one_hot = OneHotEncoder()\n",
    "transformer = ColumnTransformer([('one_hot', one_hot, categorical_cols)], remainder='passthrough')\n",
    "\n",
    "X_encoded = transformer.fit_transform(X)\n",
    "\n",
    "# Train/test split\n",
    "X_train, X_test, y_train, y_test = train_test_split(X_encoded, y, test_size=0.2, random_state=42)\n",
    "\n",
    "# Instantiate the model\n",
    "clf = SGDClassifier(loss='hinge', max_iter=2000, random_state=42)\n",
    "\n",
    "# Train model\n",
    "clf.fit(X_train, y_train)\n",
    "\n",
    "# Make predictions\n",
    "y_preds = clf.predict(X_test)\n",
    "\n",
    "# Evaluate the model\n",
    "print(\"Accuracy:\", accuracy_score(y_test, y_preds))"
   ]
  },
  {
   "cell_type": "code",
   "execution_count": 42,
   "id": "fea87d8a",
   "metadata": {},
   "outputs": [
    {
     "name": "stdout",
     "output_type": "stream",
     "text": [
      "Accuracy: 0.7119996616239231\n"
     ]
    }
   ],
   "source": [
    "from sklearn.model_selection import train_test_split\n",
    "from sklearn.linear_model import SGDClassifier\n",
    "from sklearn.metrics import accuracy_score\n",
    "\n",
    "# Train/test split\n",
    "X_train, X_test, y_train, y_test = train_test_split(X_encoded, y, test_size=0.2, random_state=42)\n",
    "\n",
    "# Instantiate the model\n",
    "# I will keep track here of different loss functions and their accuracies to keep it all in this cell\n",
    "# hinge (above): 0.4736066660087132\n",
    "# log_loss: 0.623690555077756\n",
    "# modified_huber: 0.5233690978047852\n",
    "# squared_hinge: 0.7121970476687298\n",
    "# perceptron: 0.5354871910555924\n",
    "clf = SGDClassifier(loss='perceptron', max_iter=2000, random_state=42)\n",
    "\n",
    "# Train model\n",
    "clf.fit(X_train, y_train)\n",
    "\n",
    "# Make predictions\n",
    "y_preds = clf.predict(X_test)\n",
    "\n",
    "# Evaluate the model\n",
    "print(\"Accuracy:\", accuracy_score(y_test, y_preds))"
   ]
  },
  {
   "cell_type": "code",
   "execution_count": 43,
   "id": "bf62eeb5",
   "metadata": {},
   "outputs": [
    {
     "name": "stdout",
     "output_type": "stream",
     "text": [
      "Accuracy: 0.46612009530926163\n"
     ]
    }
   ],
   "source": [
    "# squared_hinge seems to outperform the other loss methods, so let's stick with that\n",
    "from sklearn.model_selection import train_test_split\n",
    "from sklearn.linear_model import SGDClassifier\n",
    "from sklearn.metrics import accuracy_score\n",
    "\n",
    "# Train/test split\n",
    "X_train, X_test, y_train, y_test = train_test_split(X_encoded, y, test_size=0.2, random_state=42)\n",
    "\n",
    "# Instantiate the model\n",
    "clf = SGDClassifier(loss='squared_hinge', max_iter=2000, random_state=42)\n",
    "\n",
    "# Train model\n",
    "clf.fit(X_train, y_train)\n",
    "\n",
    "# Make predictions\n",
    "y_preds = clf.predict(X_test)\n",
    "\n",
    "# Evaluate the model\n",
    "print(\"Accuracy:\", accuracy_score(y_test, y_preds))"
   ]
  },
  {
   "cell_type": "code",
   "execution_count": 44,
   "id": "9421678a",
   "metadata": {},
   "outputs": [
    {
     "data": {
      "text/plain": [
       "<sklearn.metrics._plot.confusion_matrix.ConfusionMatrixDisplay at 0x21006f71a90>"
      ]
     },
     "execution_count": 44,
     "metadata": {},
     "output_type": "execute_result"
    },
    {
     "data": {
      "image/png": "[encoded data removed]",
      "text/plain": [
       "<Figure size 640x480 with 2 Axes>"
      ]
     },
     "metadata": {},
     "output_type": "display_data"
    }
   ],
   "source": [
    "# Let's check out a confusion matrix\n",
    "from sklearn.metrics import confusion_matrix, ConfusionMatrixDisplay\n",
    "cm = confusion_matrix(y_test, y_preds, labels=clf.classes_)\n",
    "disp = ConfusionMatrixDisplay(confusion_matrix=cm, display_labels=clf.classes_)\n",
    "disp.plot(cmap=plt.cm.Blues)"
   ]
  },
  {
   "cell_type": "markdown",
   "id": "319162f8",
   "metadata": {},
   "source": [
    "So this model gives us:\n",
    "* 52,514 true negatives (correctly predicted non-strikes)\n",
    "* 48,514 true positives (correctly predicted strikes)\n",
    "* 17,523 false negatives (strikes that were incorrectly predicted as non-strikes)\n",
    "* 23,303 false positives (non-strikes that were incorrectly predicted as strikes)"
   ]
  },
  {
   "cell_type": "markdown",
   "id": "714e6ac1",
   "metadata": {},
   "source": [
    "### Classification Report"
   ]
  },
  {
   "cell_type": "code",
   "execution_count": 45,
   "id": "87dd66cc",
   "metadata": {},
   "outputs": [
    {
     "name": "stdout",
     "output_type": "stream",
     "text": [
      "              precision    recall  f1-score   support\n",
      "\n",
      "           0       0.79      0.00      0.01     75905\n",
      "           1       0.47      1.00      0.64     65949\n",
      "\n",
      "    accuracy                           0.47    141854\n",
      "   macro avg       0.63      0.50      0.32    141854\n",
      "weighted avg       0.64      0.47      0.30    141854\n",
      "\n"
     ]
    }
   ],
   "source": [
    "from sklearn.metrics import classification_report\n",
    "\n",
    "print(classification_report(y_test, y_preds))"
   ]
  },
  {
   "cell_type": "code",
   "execution_count": 46,
   "id": "7830eee6",
   "metadata": {},
   "outputs": [],
   "source": [
    "# Now let's save the model\n",
    "import pickle\n",
    "\n",
    "pickle.dump(clf, open(\"sgdclassifier_model.pkl\", \"wb\"))"
   ]
  },
  {
   "cell_type": "markdown",
   "id": "ab31ef83",
   "metadata": {},
   "source": [
    "### Next steps\n",
    "\n",
    "- This model will be used in a larger project that takes allows users to select a pitcher, a pitch type from that pitcher's arsenal, and an area within an image of a strike zone in order to simulate if that exact pitch would result in a strike or not\n",
    "- Future improvements could include more advanced stats, weather and stadium effects, and pitcher-batter matchups\n",
    "- This model only predicts whether a pitch results in a strike or not. Future versions may dive in deeper to predict type of strike (swinging strike, caught looking, foul ball, etc) to help pitchers and their coaches understand which pitches can produce desired results"
   ]
  },
  {
   "cell_type": "code",
   "execution_count": null,
   "id": "caa767a3",
   "metadata": {},
   "outputs": [],
   "source": []
  }
 ],
 "metadata": {
  "kernelspec": {
   "display_name": "venv",
   "language": "python",
   "name": "python3"
  },
  "language_info": {
   "codemirror_mode": {
    "name": "ipython",
    "version": 3
   },
   "file_extension": ".py",
   "mimetype": "text/x-python",
   "name": "python",
   "nbconvert_exporter": "python",
   "pygments_lexer": "ipython3",
   "version": "3.13.5"
  }
 },
 "nbformat": 4,
 "nbformat_minor": 5
}
